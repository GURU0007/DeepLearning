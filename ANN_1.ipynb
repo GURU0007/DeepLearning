{
 "cells": [
  {
   "cell_type": "code",
   "execution_count": 1,
   "metadata": {},
   "outputs": [],
   "source": [
    "import numpy as np\n",
    "import matplotlib.pyplot as plt\n",
    "import pandas as pd"
   ]
  },
  {
   "cell_type": "code",
   "execution_count": 3,
   "metadata": {},
   "outputs": [
    {
     "data": {
      "text/html": [
       "<div>\n",
       "<style scoped>\n",
       "    .dataframe tbody tr th:only-of-type {\n",
       "        vertical-align: middle;\n",
       "    }\n",
       "\n",
       "    .dataframe tbody tr th {\n",
       "        vertical-align: top;\n",
       "    }\n",
       "\n",
       "    .dataframe thead th {\n",
       "        text-align: right;\n",
       "    }\n",
       "</style>\n",
       "<table border=\"1\" class=\"dataframe\">\n",
       "  <thead>\n",
       "    <tr style=\"text-align: right;\">\n",
       "      <th></th>\n",
       "      <th>RowNumber</th>\n",
       "      <th>CustomerId</th>\n",
       "      <th>Surname</th>\n",
       "      <th>CreditScore</th>\n",
       "      <th>Geography</th>\n",
       "      <th>Gender</th>\n",
       "      <th>Age</th>\n",
       "      <th>Tenure</th>\n",
       "      <th>Balance</th>\n",
       "      <th>NumOfProducts</th>\n",
       "      <th>HasCrCard</th>\n",
       "      <th>IsActiveMember</th>\n",
       "      <th>EstimatedSalary</th>\n",
       "      <th>Exited</th>\n",
       "    </tr>\n",
       "  </thead>\n",
       "  <tbody>\n",
       "    <tr>\n",
       "      <th>0</th>\n",
       "      <td>1</td>\n",
       "      <td>15634602</td>\n",
       "      <td>Hargrave</td>\n",
       "      <td>619</td>\n",
       "      <td>France</td>\n",
       "      <td>Female</td>\n",
       "      <td>42</td>\n",
       "      <td>2</td>\n",
       "      <td>0.00</td>\n",
       "      <td>1</td>\n",
       "      <td>1</td>\n",
       "      <td>1</td>\n",
       "      <td>101348.88</td>\n",
       "      <td>1</td>\n",
       "    </tr>\n",
       "    <tr>\n",
       "      <th>1</th>\n",
       "      <td>2</td>\n",
       "      <td>15647311</td>\n",
       "      <td>Hill</td>\n",
       "      <td>608</td>\n",
       "      <td>Spain</td>\n",
       "      <td>Female</td>\n",
       "      <td>41</td>\n",
       "      <td>1</td>\n",
       "      <td>83807.86</td>\n",
       "      <td>1</td>\n",
       "      <td>0</td>\n",
       "      <td>1</td>\n",
       "      <td>112542.58</td>\n",
       "      <td>0</td>\n",
       "    </tr>\n",
       "    <tr>\n",
       "      <th>2</th>\n",
       "      <td>3</td>\n",
       "      <td>15619304</td>\n",
       "      <td>Onio</td>\n",
       "      <td>502</td>\n",
       "      <td>France</td>\n",
       "      <td>Female</td>\n",
       "      <td>42</td>\n",
       "      <td>8</td>\n",
       "      <td>159660.80</td>\n",
       "      <td>3</td>\n",
       "      <td>1</td>\n",
       "      <td>0</td>\n",
       "      <td>113931.57</td>\n",
       "      <td>1</td>\n",
       "    </tr>\n",
       "    <tr>\n",
       "      <th>3</th>\n",
       "      <td>4</td>\n",
       "      <td>15701354</td>\n",
       "      <td>Boni</td>\n",
       "      <td>699</td>\n",
       "      <td>France</td>\n",
       "      <td>Female</td>\n",
       "      <td>39</td>\n",
       "      <td>1</td>\n",
       "      <td>0.00</td>\n",
       "      <td>2</td>\n",
       "      <td>0</td>\n",
       "      <td>0</td>\n",
       "      <td>93826.63</td>\n",
       "      <td>0</td>\n",
       "    </tr>\n",
       "    <tr>\n",
       "      <th>4</th>\n",
       "      <td>5</td>\n",
       "      <td>15737888</td>\n",
       "      <td>Mitchell</td>\n",
       "      <td>850</td>\n",
       "      <td>Spain</td>\n",
       "      <td>Female</td>\n",
       "      <td>43</td>\n",
       "      <td>2</td>\n",
       "      <td>125510.82</td>\n",
       "      <td>1</td>\n",
       "      <td>1</td>\n",
       "      <td>1</td>\n",
       "      <td>79084.10</td>\n",
       "      <td>0</td>\n",
       "    </tr>\n",
       "  </tbody>\n",
       "</table>\n",
       "</div>"
      ],
      "text/plain": [
       "   RowNumber  CustomerId   Surname  CreditScore Geography  Gender  Age  \\\n",
       "0          1    15634602  Hargrave          619    France  Female   42   \n",
       "1          2    15647311      Hill          608     Spain  Female   41   \n",
       "2          3    15619304      Onio          502    France  Female   42   \n",
       "3          4    15701354      Boni          699    France  Female   39   \n",
       "4          5    15737888  Mitchell          850     Spain  Female   43   \n",
       "\n",
       "   Tenure    Balance  NumOfProducts  HasCrCard  IsActiveMember  \\\n",
       "0       2       0.00              1          1               1   \n",
       "1       1   83807.86              1          0               1   \n",
       "2       8  159660.80              3          1               0   \n",
       "3       1       0.00              2          0               0   \n",
       "4       2  125510.82              1          1               1   \n",
       "\n",
       "   EstimatedSalary  Exited  \n",
       "0        101348.88       1  \n",
       "1        112542.58       0  \n",
       "2        113931.57       1  \n",
       "3         93826.63       0  \n",
       "4         79084.10       0  "
      ]
     },
     "execution_count": 3,
     "metadata": {},
     "output_type": "execute_result"
    }
   ],
   "source": [
    "dataset = pd.read_csv(r'C:\\Users\\guru sai reddy\\Desktop\\Churn_Modelling.csv')\n",
    "X = dataset.iloc[:, 3:13]\n",
    "y = dataset.iloc[:, 13]\n",
    "dataset.head()"
   ]
  },
  {
   "cell_type": "code",
   "execution_count": 4,
   "metadata": {},
   "outputs": [],
   "source": [
    "geography=pd.get_dummies(X[\"Geography\"],drop_first=True)\n",
    "gender=pd.get_dummies(X['Gender'],drop_first=True)"
   ]
  },
  {
   "cell_type": "code",
   "execution_count": 5,
   "metadata": {},
   "outputs": [
    {
     "data": {
      "text/html": [
       "<div>\n",
       "<style scoped>\n",
       "    .dataframe tbody tr th:only-of-type {\n",
       "        vertical-align: middle;\n",
       "    }\n",
       "\n",
       "    .dataframe tbody tr th {\n",
       "        vertical-align: top;\n",
       "    }\n",
       "\n",
       "    .dataframe thead th {\n",
       "        text-align: right;\n",
       "    }\n",
       "</style>\n",
       "<table border=\"1\" class=\"dataframe\">\n",
       "  <thead>\n",
       "    <tr style=\"text-align: right;\">\n",
       "      <th></th>\n",
       "      <th>CreditScore</th>\n",
       "      <th>Geography</th>\n",
       "      <th>Gender</th>\n",
       "      <th>Age</th>\n",
       "      <th>Tenure</th>\n",
       "      <th>Balance</th>\n",
       "      <th>NumOfProducts</th>\n",
       "      <th>HasCrCard</th>\n",
       "      <th>IsActiveMember</th>\n",
       "      <th>EstimatedSalary</th>\n",
       "      <th>Germany</th>\n",
       "      <th>Spain</th>\n",
       "      <th>Male</th>\n",
       "    </tr>\n",
       "  </thead>\n",
       "  <tbody>\n",
       "    <tr>\n",
       "      <th>0</th>\n",
       "      <td>619</td>\n",
       "      <td>France</td>\n",
       "      <td>Female</td>\n",
       "      <td>42</td>\n",
       "      <td>2</td>\n",
       "      <td>0.00</td>\n",
       "      <td>1</td>\n",
       "      <td>1</td>\n",
       "      <td>1</td>\n",
       "      <td>101348.88</td>\n",
       "      <td>0</td>\n",
       "      <td>0</td>\n",
       "      <td>0</td>\n",
       "    </tr>\n",
       "    <tr>\n",
       "      <th>1</th>\n",
       "      <td>608</td>\n",
       "      <td>Spain</td>\n",
       "      <td>Female</td>\n",
       "      <td>41</td>\n",
       "      <td>1</td>\n",
       "      <td>83807.86</td>\n",
       "      <td>1</td>\n",
       "      <td>0</td>\n",
       "      <td>1</td>\n",
       "      <td>112542.58</td>\n",
       "      <td>0</td>\n",
       "      <td>1</td>\n",
       "      <td>0</td>\n",
       "    </tr>\n",
       "    <tr>\n",
       "      <th>2</th>\n",
       "      <td>502</td>\n",
       "      <td>France</td>\n",
       "      <td>Female</td>\n",
       "      <td>42</td>\n",
       "      <td>8</td>\n",
       "      <td>159660.80</td>\n",
       "      <td>3</td>\n",
       "      <td>1</td>\n",
       "      <td>0</td>\n",
       "      <td>113931.57</td>\n",
       "      <td>0</td>\n",
       "      <td>0</td>\n",
       "      <td>0</td>\n",
       "    </tr>\n",
       "    <tr>\n",
       "      <th>3</th>\n",
       "      <td>699</td>\n",
       "      <td>France</td>\n",
       "      <td>Female</td>\n",
       "      <td>39</td>\n",
       "      <td>1</td>\n",
       "      <td>0.00</td>\n",
       "      <td>2</td>\n",
       "      <td>0</td>\n",
       "      <td>0</td>\n",
       "      <td>93826.63</td>\n",
       "      <td>0</td>\n",
       "      <td>0</td>\n",
       "      <td>0</td>\n",
       "    </tr>\n",
       "    <tr>\n",
       "      <th>4</th>\n",
       "      <td>850</td>\n",
       "      <td>Spain</td>\n",
       "      <td>Female</td>\n",
       "      <td>43</td>\n",
       "      <td>2</td>\n",
       "      <td>125510.82</td>\n",
       "      <td>1</td>\n",
       "      <td>1</td>\n",
       "      <td>1</td>\n",
       "      <td>79084.10</td>\n",
       "      <td>0</td>\n",
       "      <td>1</td>\n",
       "      <td>0</td>\n",
       "    </tr>\n",
       "  </tbody>\n",
       "</table>\n",
       "</div>"
      ],
      "text/plain": [
       "   CreditScore Geography  Gender  Age  Tenure    Balance  NumOfProducts  \\\n",
       "0          619    France  Female   42       2       0.00              1   \n",
       "1          608     Spain  Female   41       1   83807.86              1   \n",
       "2          502    France  Female   42       8  159660.80              3   \n",
       "3          699    France  Female   39       1       0.00              2   \n",
       "4          850     Spain  Female   43       2  125510.82              1   \n",
       "\n",
       "   HasCrCard  IsActiveMember  EstimatedSalary  Germany  Spain  Male  \n",
       "0          1               1        101348.88        0      0     0  \n",
       "1          0               1        112542.58        0      1     0  \n",
       "2          1               0        113931.57        0      0     0  \n",
       "3          0               0         93826.63        0      0     0  \n",
       "4          1               1         79084.10        0      1     0  "
      ]
     },
     "execution_count": 5,
     "metadata": {},
     "output_type": "execute_result"
    }
   ],
   "source": [
    "\n",
    "X=pd.concat([X,geography,gender],axis=1)\n",
    "X.head()"
   ]
  },
  {
   "cell_type": "code",
   "execution_count": 6,
   "metadata": {},
   "outputs": [],
   "source": [
    "X=X.drop(['Geography','Gender'],axis=1)"
   ]
  },
  {
   "cell_type": "code",
   "execution_count": 7,
   "metadata": {},
   "outputs": [
    {
     "data": {
      "text/html": [
       "<div>\n",
       "<style scoped>\n",
       "    .dataframe tbody tr th:only-of-type {\n",
       "        vertical-align: middle;\n",
       "    }\n",
       "\n",
       "    .dataframe tbody tr th {\n",
       "        vertical-align: top;\n",
       "    }\n",
       "\n",
       "    .dataframe thead th {\n",
       "        text-align: right;\n",
       "    }\n",
       "</style>\n",
       "<table border=\"1\" class=\"dataframe\">\n",
       "  <thead>\n",
       "    <tr style=\"text-align: right;\">\n",
       "      <th></th>\n",
       "      <th>CreditScore</th>\n",
       "      <th>Age</th>\n",
       "      <th>Tenure</th>\n",
       "      <th>Balance</th>\n",
       "      <th>NumOfProducts</th>\n",
       "      <th>HasCrCard</th>\n",
       "      <th>IsActiveMember</th>\n",
       "      <th>EstimatedSalary</th>\n",
       "      <th>Germany</th>\n",
       "      <th>Spain</th>\n",
       "      <th>Male</th>\n",
       "    </tr>\n",
       "  </thead>\n",
       "  <tbody>\n",
       "    <tr>\n",
       "      <th>0</th>\n",
       "      <td>619</td>\n",
       "      <td>42</td>\n",
       "      <td>2</td>\n",
       "      <td>0.00</td>\n",
       "      <td>1</td>\n",
       "      <td>1</td>\n",
       "      <td>1</td>\n",
       "      <td>101348.88</td>\n",
       "      <td>0</td>\n",
       "      <td>0</td>\n",
       "      <td>0</td>\n",
       "    </tr>\n",
       "    <tr>\n",
       "      <th>1</th>\n",
       "      <td>608</td>\n",
       "      <td>41</td>\n",
       "      <td>1</td>\n",
       "      <td>83807.86</td>\n",
       "      <td>1</td>\n",
       "      <td>0</td>\n",
       "      <td>1</td>\n",
       "      <td>112542.58</td>\n",
       "      <td>0</td>\n",
       "      <td>1</td>\n",
       "      <td>0</td>\n",
       "    </tr>\n",
       "    <tr>\n",
       "      <th>2</th>\n",
       "      <td>502</td>\n",
       "      <td>42</td>\n",
       "      <td>8</td>\n",
       "      <td>159660.80</td>\n",
       "      <td>3</td>\n",
       "      <td>1</td>\n",
       "      <td>0</td>\n",
       "      <td>113931.57</td>\n",
       "      <td>0</td>\n",
       "      <td>0</td>\n",
       "      <td>0</td>\n",
       "    </tr>\n",
       "    <tr>\n",
       "      <th>3</th>\n",
       "      <td>699</td>\n",
       "      <td>39</td>\n",
       "      <td>1</td>\n",
       "      <td>0.00</td>\n",
       "      <td>2</td>\n",
       "      <td>0</td>\n",
       "      <td>0</td>\n",
       "      <td>93826.63</td>\n",
       "      <td>0</td>\n",
       "      <td>0</td>\n",
       "      <td>0</td>\n",
       "    </tr>\n",
       "    <tr>\n",
       "      <th>4</th>\n",
       "      <td>850</td>\n",
       "      <td>43</td>\n",
       "      <td>2</td>\n",
       "      <td>125510.82</td>\n",
       "      <td>1</td>\n",
       "      <td>1</td>\n",
       "      <td>1</td>\n",
       "      <td>79084.10</td>\n",
       "      <td>0</td>\n",
       "      <td>1</td>\n",
       "      <td>0</td>\n",
       "    </tr>\n",
       "  </tbody>\n",
       "</table>\n",
       "</div>"
      ],
      "text/plain": [
       "   CreditScore  Age  Tenure    Balance  NumOfProducts  HasCrCard  \\\n",
       "0          619   42       2       0.00              1          1   \n",
       "1          608   41       1   83807.86              1          0   \n",
       "2          502   42       8  159660.80              3          1   \n",
       "3          699   39       1       0.00              2          0   \n",
       "4          850   43       2  125510.82              1          1   \n",
       "\n",
       "   IsActiveMember  EstimatedSalary  Germany  Spain  Male  \n",
       "0               1        101348.88        0      0     0  \n",
       "1               1        112542.58        0      1     0  \n",
       "2               0        113931.57        0      0     0  \n",
       "3               0         93826.63        0      0     0  \n",
       "4               1         79084.10        0      1     0  "
      ]
     },
     "execution_count": 7,
     "metadata": {},
     "output_type": "execute_result"
    }
   ],
   "source": [
    "X.head()"
   ]
  },
  {
   "cell_type": "code",
   "execution_count": 8,
   "metadata": {},
   "outputs": [
    {
     "data": {
      "text/plain": [
       "0    1\n",
       "1    0\n",
       "2    1\n",
       "3    0\n",
       "4    0\n",
       "Name: Exited, dtype: int64"
      ]
     },
     "execution_count": 8,
     "metadata": {},
     "output_type": "execute_result"
    }
   ],
   "source": [
    "y.head()"
   ]
  },
  {
   "cell_type": "code",
   "execution_count": 10,
   "metadata": {},
   "outputs": [],
   "source": [
    "from sklearn.model_selection import train_test_split\n",
    "X_train,X_test,Y_train,Y_test=train_test_split(X, y, test_size = 0.2, random_state = 0)"
   ]
  },
  {
   "cell_type": "code",
   "execution_count": 13,
   "metadata": {},
   "outputs": [
    {
     "data": {
      "text/plain": [
       "(8000, 11)"
      ]
     },
     "execution_count": 13,
     "metadata": {},
     "output_type": "execute_result"
    }
   ],
   "source": [
    "X_train.shape"
   ]
  },
  {
   "cell_type": "code",
   "execution_count": 15,
   "metadata": {},
   "outputs": [],
   "source": [
    "# Feature Scaling\n",
    "from sklearn.preprocessing import StandardScaler\n",
    "sc = StandardScaler()\n",
    "X_train = sc.fit_transform(X_train)\n",
    "X_test = sc.transform(X_test)"
   ]
  },
  {
   "cell_type": "code",
   "execution_count": 16,
   "metadata": {},
   "outputs": [
    {
     "name": "stderr",
     "output_type": "stream",
     "text": [
      "Using TensorFlow backend.\n"
     ]
    }
   ],
   "source": [
    "import keras\n",
    "from keras.models import Sequential\n",
    "from keras.layers import Dense\n",
    "from keras.layers import LeakyReLU,PReLU,ELU\n",
    "from keras.layers import Dropout"
   ]
  },
  {
   "cell_type": "code",
   "execution_count": 17,
   "metadata": {},
   "outputs": [],
   "source": [
    "classifier=Sequential()"
   ]
  },
  {
   "cell_type": "code",
   "execution_count": 20,
   "metadata": {},
   "outputs": [],
   "source": [
    "classifier.add(Dense(units= 6,  kernel_initializer= 'he_uniform',activation='relu',input_dim = 11))\n",
    "classifier.add(Dense(units= 6,  kernel_initializer= 'he_uniform',activation='relu'))\n",
    "classifier.add(Dense(units= 6,  kernel_initializer= 'he_uniform',activation='relu'))\n",
    "classifier.add(Dense(units= 1,  kernel_initializer = 'glorot_uniform', activation = 'sigmoid'))"
   ]
  },
  {
   "cell_type": "code",
   "execution_count": 21,
   "metadata": {},
   "outputs": [],
   "source": [
    "classifier.compile(optimizer = 'Adamax', loss = 'binary_crossentropy', metrics = ['accuracy'])"
   ]
  },
  {
   "cell_type": "code",
   "execution_count": 23,
   "metadata": {},
   "outputs": [
    {
     "name": "stderr",
     "output_type": "stream",
     "text": [
      "C:\\Users\\guru sai reddy\\Anaconda3\\lib\\site-packages\\ipykernel_launcher.py:1: UserWarning: The `nb_epoch` argument in `fit` has been renamed `epochs`.\n",
      "  \"\"\"Entry point for launching an IPython kernel.\n"
     ]
    },
    {
     "name": "stdout",
     "output_type": "stream",
     "text": [
      "Train on 5359 samples, validate on 2641 samples\n",
      "Epoch 1/100\n",
      "5359/5359 [==============================] - 2s 362us/step - loss: 0.5118 - accuracy: 0.7962 - val_loss: 0.4961 - val_accuracy: 0.7955\n",
      "Epoch 2/100\n",
      "5359/5359 [==============================] - 1s 116us/step - loss: 0.4827 - accuracy: 0.7962 - val_loss: 0.4670 - val_accuracy: 0.7955\n",
      "Epoch 3/100\n",
      "5359/5359 [==============================] - 1s 121us/step - loss: 0.4535 - accuracy: 0.7962 - val_loss: 0.4438 - val_accuracy: 0.7955\n",
      "Epoch 4/100\n",
      "5359/5359 [==============================] - 1s 115us/step - loss: 0.4301 - accuracy: 0.8007 - val_loss: 0.4265 - val_accuracy: 0.8016\n",
      "Epoch 5/100\n",
      "5359/5359 [==============================] - 1s 112us/step - loss: 0.4140 - accuracy: 0.8140 - val_loss: 0.4131 - val_accuracy: 0.8148\n",
      "Epoch 6/100\n",
      "5359/5359 [==============================] - 1s 125us/step - loss: 0.4024 - accuracy: 0.8253 - val_loss: 0.4059 - val_accuracy: 0.8190\n",
      "Epoch 7/100\n",
      "5359/5359 [==============================] - 1s 123us/step - loss: 0.3944 - accuracy: 0.8259 - val_loss: 0.4026 - val_accuracy: 0.8247\n",
      "Epoch 8/100\n",
      "5359/5359 [==============================] - 1s 112us/step - loss: 0.3892 - accuracy: 0.8311 - val_loss: 0.3988 - val_accuracy: 0.8247\n",
      "Epoch 9/100\n",
      "5359/5359 [==============================] - 1s 118us/step - loss: 0.3851 - accuracy: 0.8360 - val_loss: 0.3947 - val_accuracy: 0.8239\n",
      "Epoch 10/100\n",
      "5359/5359 [==============================] - 1s 115us/step - loss: 0.3816 - accuracy: 0.8343 - val_loss: 0.3930 - val_accuracy: 0.8243\n",
      "Epoch 11/100\n",
      "5359/5359 [==============================] - 1s 115us/step - loss: 0.3785 - accuracy: 0.8390 - val_loss: 0.3914 - val_accuracy: 0.8273\n",
      "Epoch 12/100\n",
      "5359/5359 [==============================] - 1s 115us/step - loss: 0.3764 - accuracy: 0.8393 - val_loss: 0.3915 - val_accuracy: 0.8289\n",
      "Epoch 13/100\n",
      "5359/5359 [==============================] - 1s 124us/step - loss: 0.3749 - accuracy: 0.8403 - val_loss: 0.3933 - val_accuracy: 0.8254\n",
      "Epoch 14/100\n",
      "5359/5359 [==============================] - 1s 121us/step - loss: 0.3734 - accuracy: 0.8406 - val_loss: 0.3884 - val_accuracy: 0.8304\n",
      "Epoch 15/100\n",
      "5359/5359 [==============================] - 1s 125us/step - loss: 0.3716 - accuracy: 0.8429 - val_loss: 0.3886 - val_accuracy: 0.8315\n",
      "Epoch 16/100\n",
      "5359/5359 [==============================] - 1s 119us/step - loss: 0.3694 - accuracy: 0.8421 - val_loss: 0.3950 - val_accuracy: 0.8326\n",
      "Epoch 17/100\n",
      "5359/5359 [==============================] - 1s 115us/step - loss: 0.3701 - accuracy: 0.8414 - val_loss: 0.3868 - val_accuracy: 0.8326\n",
      "Epoch 18/100\n",
      "5359/5359 [==============================] - 1s 112us/step - loss: 0.3677 - accuracy: 0.8414 - val_loss: 0.3872 - val_accuracy: 0.8285\n",
      "Epoch 19/100\n",
      "5359/5359 [==============================] - 1s 119us/step - loss: 0.3672 - accuracy: 0.8419 - val_loss: 0.3857 - val_accuracy: 0.8315\n",
      "Epoch 20/100\n",
      "5359/5359 [==============================] - 1s 118us/step - loss: 0.3660 - accuracy: 0.8451 - val_loss: 0.3851 - val_accuracy: 0.8304\n",
      "Epoch 21/100\n",
      "5359/5359 [==============================] - 1s 121us/step - loss: 0.3647 - accuracy: 0.8464 - val_loss: 0.3851 - val_accuracy: 0.8296\n",
      "Epoch 22/100\n",
      "5359/5359 [==============================] - 1s 112us/step - loss: 0.3640 - accuracy: 0.8433 - val_loss: 0.3847 - val_accuracy: 0.8349\n",
      "Epoch 23/100\n",
      "5359/5359 [==============================] - 1s 117us/step - loss: 0.3628 - accuracy: 0.8447 - val_loss: 0.3838 - val_accuracy: 0.8330\n",
      "Epoch 24/100\n",
      "5359/5359 [==============================] - 1s 115us/step - loss: 0.3625 - accuracy: 0.8449 - val_loss: 0.3863 - val_accuracy: 0.8345\n",
      "Epoch 25/100\n",
      "5359/5359 [==============================] - 1s 121us/step - loss: 0.3613 - accuracy: 0.8462 - val_loss: 0.3845 - val_accuracy: 0.8345\n",
      "Epoch 26/100\n",
      "5359/5359 [==============================] - 1s 119us/step - loss: 0.3608 - accuracy: 0.8444 - val_loss: 0.3830 - val_accuracy: 0.8360\n",
      "Epoch 27/100\n",
      "5359/5359 [==============================] - 1s 123us/step - loss: 0.3599 - accuracy: 0.8453 - val_loss: 0.3827 - val_accuracy: 0.8330\n",
      "Epoch 28/100\n",
      "5359/5359 [==============================] - 1s 119us/step - loss: 0.3580 - accuracy: 0.8481 - val_loss: 0.3926 - val_accuracy: 0.8364\n",
      "Epoch 29/100\n",
      "5359/5359 [==============================] - 1s 121us/step - loss: 0.3579 - accuracy: 0.8489 - val_loss: 0.3836 - val_accuracy: 0.8353\n",
      "Epoch 30/100\n",
      "5359/5359 [==============================] - 1s 134us/step - loss: 0.3577 - accuracy: 0.8498 - val_loss: 0.3826 - val_accuracy: 0.8383\n",
      "Epoch 31/100\n",
      "5359/5359 [==============================] - 1s 143us/step - loss: 0.3570 - accuracy: 0.8481 - val_loss: 0.3836 - val_accuracy: 0.8342\n",
      "Epoch 32/100\n",
      "5359/5359 [==============================] - 1s 125us/step - loss: 0.3566 - accuracy: 0.8505 - val_loss: 0.3816 - val_accuracy: 0.8368\n",
      "Epoch 33/100\n",
      "5359/5359 [==============================] - 1s 134us/step - loss: 0.3557 - accuracy: 0.8518 - val_loss: 0.3867 - val_accuracy: 0.8360\n",
      "Epoch 34/100\n",
      "5359/5359 [==============================] - 1s 124us/step - loss: 0.3554 - accuracy: 0.8522 - val_loss: 0.3802 - val_accuracy: 0.8353\n",
      "Epoch 35/100\n",
      "5359/5359 [==============================] - 1s 119us/step - loss: 0.3541 - accuracy: 0.8489 - val_loss: 0.3818 - val_accuracy: 0.8353\n",
      "Epoch 36/100\n",
      "5359/5359 [==============================] - 1s 115us/step - loss: 0.3527 - accuracy: 0.8490 - val_loss: 0.3783 - val_accuracy: 0.8398\n",
      "Epoch 37/100\n",
      "5359/5359 [==============================] - 1s 118us/step - loss: 0.3523 - accuracy: 0.8526 - val_loss: 0.3813 - val_accuracy: 0.8357\n",
      "Epoch 38/100\n",
      "5359/5359 [==============================] - 1s 119us/step - loss: 0.3515 - accuracy: 0.8513 - val_loss: 0.3785 - val_accuracy: 0.8383\n",
      "Epoch 39/100\n",
      "5359/5359 [==============================] - 1s 118us/step - loss: 0.3507 - accuracy: 0.8528 - val_loss: 0.3759 - val_accuracy: 0.8436\n",
      "Epoch 40/100\n",
      "5359/5359 [==============================] - 1s 121us/step - loss: 0.3486 - accuracy: 0.8558 - val_loss: 0.3763 - val_accuracy: 0.8413\n",
      "Epoch 41/100\n",
      "5359/5359 [==============================] - 1s 119us/step - loss: 0.3475 - accuracy: 0.8546 - val_loss: 0.3769 - val_accuracy: 0.8398\n",
      "Epoch 42/100\n",
      "5359/5359 [==============================] - 1s 118us/step - loss: 0.3469 - accuracy: 0.8526 - val_loss: 0.3735 - val_accuracy: 0.8459\n",
      "Epoch 43/100\n",
      "5359/5359 [==============================] - 1s 118us/step - loss: 0.3454 - accuracy: 0.8559 - val_loss: 0.3715 - val_accuracy: 0.8466\n",
      "Epoch 44/100\n",
      "5359/5359 [==============================] - 1s 118us/step - loss: 0.3443 - accuracy: 0.8546 - val_loss: 0.3708 - val_accuracy: 0.8451\n",
      "Epoch 45/100\n",
      "5359/5359 [==============================] - 1s 122us/step - loss: 0.3432 - accuracy: 0.8539 - val_loss: 0.3708 - val_accuracy: 0.8504\n",
      "Epoch 46/100\n",
      "5359/5359 [==============================] - 1s 124us/step - loss: 0.3424 - accuracy: 0.8559 - val_loss: 0.3718 - val_accuracy: 0.8451\n",
      "Epoch 47/100\n",
      "5359/5359 [==============================] - 1s 119us/step - loss: 0.3418 - accuracy: 0.8561 - val_loss: 0.3749 - val_accuracy: 0.8342\n",
      "Epoch 48/100\n",
      "5359/5359 [==============================] - 1s 120us/step - loss: 0.3413 - accuracy: 0.8569 - val_loss: 0.3756 - val_accuracy: 0.8338\n",
      "Epoch 49/100\n",
      "5359/5359 [==============================] - 1s 121us/step - loss: 0.3403 - accuracy: 0.8580 - val_loss: 0.3687 - val_accuracy: 0.8512\n",
      "Epoch 50/100\n",
      "5359/5359 [==============================] - 1s 125us/step - loss: 0.3398 - accuracy: 0.8563 - val_loss: 0.3689 - val_accuracy: 0.8508\n",
      "Epoch 51/100\n",
      "5359/5359 [==============================] - 1s 121us/step - loss: 0.3394 - accuracy: 0.8574 - val_loss: 0.3700 - val_accuracy: 0.8485\n",
      "Epoch 52/100\n",
      "5359/5359 [==============================] - 1s 121us/step - loss: 0.3381 - accuracy: 0.8578 - val_loss: 0.3697 - val_accuracy: 0.8542\n",
      "Epoch 53/100\n",
      "5359/5359 [==============================] - 1s 121us/step - loss: 0.3381 - accuracy: 0.8595 - val_loss: 0.3757 - val_accuracy: 0.8345\n",
      "Epoch 54/100\n",
      "5359/5359 [==============================] - 1s 118us/step - loss: 0.3380 - accuracy: 0.8571 - val_loss: 0.3693 - val_accuracy: 0.8497\n",
      "Epoch 55/100\n",
      "5359/5359 [==============================] - 1s 118us/step - loss: 0.3361 - accuracy: 0.8574 - val_loss: 0.3695 - val_accuracy: 0.8440\n",
      "Epoch 56/100\n",
      "5359/5359 [==============================] - 1s 125us/step - loss: 0.3370 - accuracy: 0.8610 - val_loss: 0.3685 - val_accuracy: 0.8546\n",
      "Epoch 57/100\n",
      "5359/5359 [==============================] - 1s 124us/step - loss: 0.3369 - accuracy: 0.8599 - val_loss: 0.3683 - val_accuracy: 0.8512\n",
      "Epoch 58/100\n",
      "5359/5359 [==============================] - 1s 127us/step - loss: 0.3367 - accuracy: 0.8580 - val_loss: 0.3676 - val_accuracy: 0.8516\n",
      "Epoch 59/100\n",
      "5359/5359 [==============================] - 1s 127us/step - loss: 0.3349 - accuracy: 0.8595 - val_loss: 0.3717 - val_accuracy: 0.8398\n",
      "Epoch 60/100\n",
      "5359/5359 [==============================] - 1s 143us/step - loss: 0.3368 - accuracy: 0.8591 - val_loss: 0.3679 - val_accuracy: 0.8493\n",
      "Epoch 61/100\n",
      "5359/5359 [==============================] - 1s 146us/step - loss: 0.3353 - accuracy: 0.8593 - val_loss: 0.3675 - val_accuracy: 0.8561\n",
      "Epoch 62/100\n",
      "5359/5359 [==============================] - 1s 146us/step - loss: 0.3346 - accuracy: 0.8625 - val_loss: 0.3750 - val_accuracy: 0.8387\n",
      "Epoch 63/100\n",
      "5359/5359 [==============================] - 1s 142us/step - loss: 0.3357 - accuracy: 0.8610 - val_loss: 0.3685 - val_accuracy: 0.8508\n",
      "Epoch 64/100\n",
      "5359/5359 [==============================] - 1s 143us/step - loss: 0.3356 - accuracy: 0.8604 - val_loss: 0.3671 - val_accuracy: 0.8550\n",
      "Epoch 65/100\n",
      "5359/5359 [==============================] - 1s 147us/step - loss: 0.3354 - accuracy: 0.8610 - val_loss: 0.3644 - val_accuracy: 0.8569\n",
      "Epoch 66/100\n",
      "5359/5359 [==============================] - 1s 148us/step - loss: 0.3343 - accuracy: 0.8612 - val_loss: 0.3658 - val_accuracy: 0.8497\n",
      "Epoch 67/100\n",
      "5359/5359 [==============================] - 1s 153us/step - loss: 0.3341 - accuracy: 0.8630 - val_loss: 0.3687 - val_accuracy: 0.8489\n",
      "Epoch 68/100\n",
      "5359/5359 [==============================] - 1s 155us/step - loss: 0.3333 - accuracy: 0.8602 - val_loss: 0.3706 - val_accuracy: 0.8482\n",
      "Epoch 69/100\n",
      "5359/5359 [==============================] - 1s 171us/step - loss: 0.3340 - accuracy: 0.8593 - val_loss: 0.3660 - val_accuracy: 0.8550\n",
      "Epoch 70/100\n",
      "5359/5359 [==============================] - 1s 155us/step - loss: 0.3338 - accuracy: 0.8587 - val_loss: 0.3735 - val_accuracy: 0.8474\n",
      "Epoch 71/100\n",
      "5359/5359 [==============================] - 1s 151us/step - loss: 0.3338 - accuracy: 0.8619 - val_loss: 0.3659 - val_accuracy: 0.8523\n",
      "Epoch 72/100\n",
      "5359/5359 [==============================] - 1s 159us/step - loss: 0.3327 - accuracy: 0.8608 - val_loss: 0.3659 - val_accuracy: 0.8554\n",
      "Epoch 73/100\n",
      "5359/5359 [==============================] - 1s 152us/step - loss: 0.3325 - accuracy: 0.8612 - val_loss: 0.3667 - val_accuracy: 0.8550\n",
      "Epoch 74/100\n",
      "5359/5359 [==============================] - 1s 150us/step - loss: 0.3340 - accuracy: 0.8595 - val_loss: 0.3666 - val_accuracy: 0.8542\n",
      "Epoch 75/100\n",
      "5359/5359 [==============================] - 1s 149us/step - loss: 0.3331 - accuracy: 0.8610 - val_loss: 0.3673 - val_accuracy: 0.8523\n",
      "Epoch 76/100\n",
      "5359/5359 [==============================] - 1s 153us/step - loss: 0.3325 - accuracy: 0.8623 - val_loss: 0.3680 - val_accuracy: 0.8504\n",
      "Epoch 77/100\n",
      "5359/5359 [==============================] - 1s 153us/step - loss: 0.3328 - accuracy: 0.8599 - val_loss: 0.3687 - val_accuracy: 0.8466\n",
      "Epoch 78/100\n",
      "5359/5359 [==============================] - 1s 156us/step - loss: 0.3333 - accuracy: 0.8582 - val_loss: 0.3677 - val_accuracy: 0.8523\n",
      "Epoch 79/100\n",
      "5359/5359 [==============================] - 1s 155us/step - loss: 0.3328 - accuracy: 0.8600 - val_loss: 0.3684 - val_accuracy: 0.8493\n",
      "Epoch 80/100\n",
      "5359/5359 [==============================] - 1s 148us/step - loss: 0.3327 - accuracy: 0.8593 - val_loss: 0.3661 - val_accuracy: 0.8554\n",
      "Epoch 81/100\n",
      "5359/5359 [==============================] - 1s 149us/step - loss: 0.3322 - accuracy: 0.8587 - val_loss: 0.3708 - val_accuracy: 0.8504\n",
      "Epoch 82/100\n",
      "5359/5359 [==============================] - 1s 147us/step - loss: 0.3325 - accuracy: 0.8612 - val_loss: 0.3669 - val_accuracy: 0.8516\n",
      "Epoch 83/100\n",
      "5359/5359 [==============================] - 1s 152us/step - loss: 0.3322 - accuracy: 0.8591 - val_loss: 0.3684 - val_accuracy: 0.8527\n",
      "Epoch 84/100\n",
      "5359/5359 [==============================] - 1s 155us/step - loss: 0.3321 - accuracy: 0.8634 - val_loss: 0.3661 - val_accuracy: 0.8512\n",
      "Epoch 85/100\n",
      "5359/5359 [==============================] - 1s 149us/step - loss: 0.3314 - accuracy: 0.8606 - val_loss: 0.3652 - val_accuracy: 0.8531\n",
      "Epoch 86/100\n",
      "5359/5359 [==============================] - 1s 144us/step - loss: 0.3311 - accuracy: 0.8632 - val_loss: 0.3658 - val_accuracy: 0.8569\n",
      "Epoch 87/100\n",
      "5359/5359 [==============================] - 1s 146us/step - loss: 0.3317 - accuracy: 0.8628 - val_loss: 0.3687 - val_accuracy: 0.8466\n",
      "Epoch 88/100\n",
      "5359/5359 [==============================] - 1s 149us/step - loss: 0.3318 - accuracy: 0.8591 - val_loss: 0.3663 - val_accuracy: 0.8554\n",
      "Epoch 89/100\n",
      "5359/5359 [==============================] - 1s 159us/step - loss: 0.3314 - accuracy: 0.8586 - val_loss: 0.3685 - val_accuracy: 0.8470\n",
      "Epoch 90/100\n",
      "5359/5359 [==============================] - 1s 147us/step - loss: 0.3317 - accuracy: 0.8617 - val_loss: 0.3654 - val_accuracy: 0.8508\n",
      "Epoch 91/100\n",
      "5359/5359 [==============================] - 1s 145us/step - loss: 0.3315 - accuracy: 0.8600 - val_loss: 0.3652 - val_accuracy: 0.8538\n",
      "Epoch 92/100\n",
      "5359/5359 [==============================] - 1s 146us/step - loss: 0.3319 - accuracy: 0.8614 - val_loss: 0.3684 - val_accuracy: 0.8519\n",
      "Epoch 93/100\n",
      "5359/5359 [==============================] - 1s 139us/step - loss: 0.3316 - accuracy: 0.8595 - val_loss: 0.3692 - val_accuracy: 0.8504\n",
      "Epoch 94/100\n",
      "5359/5359 [==============================] - 1s 140us/step - loss: 0.3312 - accuracy: 0.8627 - val_loss: 0.3657 - val_accuracy: 0.8546\n",
      "Epoch 95/100\n",
      "5359/5359 [==============================] - 1s 143us/step - loss: 0.3311 - accuracy: 0.8615 - val_loss: 0.3651 - val_accuracy: 0.8527\n",
      "Epoch 96/100\n",
      "5359/5359 [==============================] - 1s 140us/step - loss: 0.3309 - accuracy: 0.8589 - val_loss: 0.3699 - val_accuracy: 0.8516\n",
      "Epoch 97/100\n",
      "5359/5359 [==============================] - 1s 137us/step - loss: 0.3317 - accuracy: 0.8604 - val_loss: 0.3677 - val_accuracy: 0.8512\n",
      "Epoch 98/100\n",
      "5359/5359 [==============================] - 1s 145us/step - loss: 0.3313 - accuracy: 0.8615 - val_loss: 0.3657 - val_accuracy: 0.8550\n",
      "Epoch 99/100\n",
      "5359/5359 [==============================] - 1s 143us/step - loss: 0.3309 - accuracy: 0.8623 - val_loss: 0.3673 - val_accuracy: 0.8531\n",
      "Epoch 100/100\n",
      "5359/5359 [==============================] - 1s 141us/step - loss: 0.3310 - accuracy: 0.8632 - val_loss: 0.3666 - val_accuracy: 0.8508\n"
     ]
    }
   ],
   "source": [
    "model_history=classifier.fit(X_train, Y_train,validation_split=0.33, batch_size = 10, nb_epoch = 100)\n"
   ]
  },
  {
   "cell_type": "code",
   "execution_count": 25,
   "metadata": {},
   "outputs": [
    {
     "name": "stdout",
     "output_type": "stream",
     "text": [
      "dict_keys(['val_loss', 'val_accuracy', 'loss', 'accuracy'])\n"
     ]
    },
    {
     "data": {
      "image/png": "[encoded data removed]",
      "text/plain": [
       "<Figure size 432x288 with 1 Axes>"
      ]
     },
     "metadata": {
      "needs_background": "light"
     },
     "output_type": "display_data"
    }
   ],
   "source": [
    "print(model_history.history.keys())\n",
    "# summarize history for accuracy\n",
    "plt.plot(model_history.history['accuracy'])\n",
    "plt.plot(model_history.history['val_accuracy'])\n",
    "plt.title('model accuracy')\n",
    "plt.ylabel('accuracy')\n",
    "plt.xlabel('epoch')\n",
    "plt.legend(['train', 'test'], loc='upper left')\n",
    "plt.show()"
   ]
  },
  {
   "cell_type": "code",
   "execution_count": 26,
   "metadata": {},
   "outputs": [
    {
     "data": {
      "image/png": "[encoded data removed]",
      "text/plain": [
       "<Figure size 432x288 with 1 Axes>"
      ]
     },
     "metadata": {
      "needs_background": "light"
     },
     "output_type": "display_data"
    }
   ],
   "source": [
    "# summarize history for loss\n",
    "plt.plot(model_history.history['loss'])\n",
    "plt.plot(model_history.history['val_loss'])\n",
    "plt.title('model loss')\n",
    "plt.ylabel('loss')\n",
    "plt.xlabel('epoch')\n",
    "plt.legend(['train', 'test'], loc='upper left')\n",
    "plt.show()"
   ]
  },
  {
   "cell_type": "code",
   "execution_count": 36,
   "metadata": {},
   "outputs": [
    {
     "data": {
      "text/plain": [
       "array([[False],\n",
       "       [False],\n",
       "       [False],\n",
       "       ...,\n",
       "       [False],\n",
       "       [False],\n",
       "       [False]])"
      ]
     },
     "execution_count": 36,
     "metadata": {},
     "output_type": "execute_result"
    }
   ],
   "source": [
    "y_pred = classifier.predict(X_test)\n",
    "y_pred = (y_pred > 0.5)\n",
    "y_pred"
   ]
  },
  {
   "cell_type": "code",
   "execution_count": 35,
   "metadata": {},
   "outputs": [
    {
     "data": {
      "text/plain": [
       "array([[1499,   96],\n",
       "       [ 187,  218]], dtype=int64)"
      ]
     },
     "execution_count": 35,
     "metadata": {},
     "output_type": "execute_result"
    }
   ],
   "source": [
    "from sklearn.metrics import confusion_matrix\n",
    "cm = confusion_matrix(Y_test, y_pred)\n",
    "cm"
   ]
  },
  {
   "cell_type": "code",
   "execution_count": 34,
   "metadata": {},
   "outputs": [
    {
     "data": {
      "text/plain": [
       "0.8585"
      ]
     },
     "execution_count": 34,
     "metadata": {},
     "output_type": "execute_result"
    }
   ],
   "source": [
    "from sklearn.metrics import accuracy_score\n",
    "score=accuracy_score(y_pred,Y_test)\n",
    "score"
   ]
  },
  {
   "cell_type": "code",
   "execution_count": null,
   "metadata": {},
   "outputs": [],
   "source": []
  }
 ],
 "metadata": {
  "kernelspec": {
   "display_name": "Python 3",
   "language": "python",
   "name": "python3"
  },
  "language_info": {
   "codemirror_mode": {
    "name": "ipython",
    "version": 3
   },
   "file_extension": ".py",
   "mimetype": "text/x-python",
   "name": "python",
   "nbconvert_exporter": "python",
   "pygments_lexer": "ipython3",
   "version": "3.7.7"
  }
 },
 "nbformat": 4,
 "nbformat_minor": 4
}
